{
 "cells": [
  {
   "cell_type": "code",
   "execution_count": 4,
   "metadata": {},
   "outputs": [],
   "source": [
    "import requests\n",
    "from datetime import datetime, timedelta\n",
    "import pandas as pd"
   ]
  },
  {
   "cell_type": "code",
   "execution_count": 5,
   "metadata": {},
   "outputs": [
    {
     "name": "stdout",
     "output_type": "stream",
     "text": [
      "Python 3.7.5\n"
     ]
    }
   ],
   "source": [
    "!python -V"
   ]
  },
  {
   "cell_type": "code",
   "execution_count": null,
   "metadata": {},
   "outputs": [],
   "source": [
    "url = \"https://api.stackexchange.com/2.2/questions\"\n",
    "tags = [\"JavaScript\", \"Python\", \"Java\", \"PHP\", \"C#\", \"C++\", \"TypeScript\", \"Shell\", \"C\", \"Ruby\"]\n",
    "dates = pd.date_range('2019-1-1 12:00:00', periods=53, freq='W')\n",
    "results = []\n",
    "for date in dates:\n",
    "    for tag in tags: \n",
    "        fromdate = int(datetime.timestamp(date))\n",
    "        todate = int(datetime.timestamp(date + timedelta(7)))\n",
    "        params = {\n",
    "        \"tagged\" : tag,\n",
    "        \"fromdate\" : fromdate,\n",
    "        \"todate\" : todate,\n",
    "        \"filter\" : \"total\",\n",
    "        \"order\" : \"desc\",\n",
    "        \"sort\" : \"activity\",\n",
    "        \"site\" : \"stackoverflow\"\n",
    "        }\n",
    "        answer = requests.get(url, params).text\n",
    "        print(fromdate, tag, answer)\n",
    "        try:\n",
    "            answer['total']\n",
    "        except:\n",
    "            print(f\"request to {date}, {tag} didn't yield result\")\n",
    "        else: \n",
    "            results.append((date, \"python\", answer.json()['total']))"
   ]
  },
  {
   "cell_type": "code",
   "execution_count": null,
   "metadata": {},
   "outputs": [],
   "source": [
    "pd.DataFrame(results, columns=['date', 'tag', 'comments'])"
   ]
  },
  {
   "cell_type": "code",
   "execution_count": null,
   "metadata": {},
   "outputs": [],
   "source": [
    "pd.pivot_table(df, values=\"comments\", index=\"date\", columns=\"tag\")"
   ]
  },
  {
   "cell_type": "code",
   "execution_count": null,
   "metadata": {},
   "outputs": [],
   "source": [
    "data = pd.DataFrame ({\n",
    "    \"dates\" : pd.date_range('2012-1-1 12:00:00', periods=53, freq='W')\n",
    "})"
   ]
  },
  {
   "cell_type": "code",
   "execution_count": null,
   "metadata": {},
   "outputs": [],
   "source": [
    "data.merge()"
   ]
  },
  {
   "cell_type": "code",
   "execution_count": null,
   "metadata": {},
   "outputs": [],
   "source": [
    "date1"
   ]
  },
  {
   "cell_type": "code",
   "execution_count": null,
   "metadata": {},
   "outputs": [],
   "source": []
  },
  {
   "cell_type": "code",
   "execution_count": null,
   "metadata": {},
   "outputs": [],
   "source": []
  }
 ],
 "metadata": {
  "kernelspec": {
   "display_name": "tech-trends",
   "language": "python",
   "name": "tech-trends"
  },
  "language_info": {
   "codemirror_mode": {
    "name": "ipython",
    "version": 3
   },
   "file_extension": ".py",
   "mimetype": "text/x-python",
   "name": "python",
   "nbconvert_exporter": "python",
   "pygments_lexer": "ipython3",
   "version": "3.7.5"
  }
 },
 "nbformat": 4,
 "nbformat_minor": 4
}
